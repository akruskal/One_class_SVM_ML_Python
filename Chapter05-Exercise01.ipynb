{
 "cells": [
  {
   "cell_type": "markdown",
   "metadata": {
    "colab_type": "text",
    "id": "LhAuYLjEbnXO"
   },
   "source": [
    "![alt text](images/HDAT9500Banner.PNG)\n",
    "<br>"
   ]
  },
  {
   "cell_type": "markdown",
   "metadata": {},
   "source": [
    "# Chapter 5: Support Vector Machines (SVMs)"
   ]
  },
  {
   "cell_type": "markdown",
   "metadata": {
    "colab_type": "text",
    "id": "zAVZUz8xn1JY"
   },
   "source": [
    "# Exercise SVM:\n",
    "\n",
    "In this exercise, we will introduce SVM. This exercise is divided in two parts:\n",
    "1. We will create a SVM classifier using 2D sythetic data that we will generate. We will fit a SVM to these 2D synthetic data. , We will extract/display the parameters of the SVM model that we have fitted to these dat. In particular, we are interested in the decision boundary. We will see that this decision boundary is a straight line in this case. Remember, decision boundary == hyper plane == line in 2D. We will write the math equation of the decision boundary (y=b0+b1x).\n",
    "\n",
    "2. Using the cancer data set, we will build an SVM classifier with 2 classes, malign and benign.\n",
    "\n"
   ]
  },
  {
   "cell_type": "markdown",
   "metadata": {},
   "source": [
    "# Classification problems"
   ]
  },
  {
   "cell_type": "code",
   "execution_count": null,
   "metadata": {
    "colab": {
     "autoexec": {
      "startup": false,
      "wait_interval": 0
     }
    },
    "colab_type": "code",
    "id": "JTrhTd6Obam1"
   },
   "outputs": [],
   "source": [
    "import numpy as np\n",
    "import pandas as pd\n",
    "import matplotlib.pyplot as plt\n",
    "from sklearn.svm               import *\n",
    "from sklearn.datasets          import make_blobs\n",
    "from sklearn.metrics           import *\n",
    "from sklearn.preprocessing     import *\n",
    "from sklearn.model_selection   import *\n",
    "from sklearn.pipeline          import *"
   ]
  },
  {
   "cell_type": "code",
   "execution_count": null,
   "metadata": {},
   "outputs": [],
   "source": [
    "from plotnine import *\n",
    "import warnings; warnings.simplefilter('ignore')"
   ]
  },
  {
   "cell_type": "markdown",
   "metadata": {
    "colab_type": "text",
    "id": "6fjrJuEP579i"
   },
   "source": [
    "We have loaded several submodules of `sklearn`. To learn as you go: \n",
    "\n",
    "* The documentation of each method can be accessed by pressing the TAB button inside parenthesis, e.g. in `SVC()`.\n",
    "* `sklearn` has more detailed documentation online, see e.g. <http://scikit-learn.org/stable/modules/svm.html>. "
   ]
  },
  {
   "cell_type": "markdown",
   "metadata": {
    "colab_type": "text",
    "id": "hBKNLHPEdX_L"
   },
   "source": [
    "\n",
    "\n",
    "## Maximum margin separating hyperplane. Toy example\n",
    "\n",
    "We start with a simple example: consider 300 points of two classes in 2D, which are linearly separable: "
   ]
  },
  {
   "cell_type": "code",
   "execution_count": null,
   "metadata": {
    "colab": {
     "autoexec": {
      "startup": false,
      "wait_interval": 0
     }
    },
    "colab_type": "code",
    "id": "fGnNqGKPoIsJ"
   },
   "outputs": [],
   "source": [
    "X, y = make_blobs(n_samples=300, n_features=2, centers=2, random_state=6)\n",
    "plt.scatter(X[:, 0], X[:, 1], c=y, s=30, cmap=plt.cm.Paired)"
   ]
  },
  {
   "cell_type": "markdown",
   "metadata": {
    "colab_type": "text",
    "id": "dBMa2V8W-MQG"
   },
   "source": [
    "### <font color='blue'> Question 1:  In 2D, a hyperplane is 1D (i.e. a line). Compute the line that separates the two classes and has a maximum margin: </font>\n",
    "<p>   \n",
    "<font color='blue'> Steps: </font>\n",
    "<p>\n",
    "<font color='blue'> 1. Divide the data into training and test sets. </font>\n",
    "<p>\n",
    "<font color='blue'> 2. Create an \"SVC\" object named \"mySVM\" with a linear kernel. </font>\n",
    "<p>\n",
    "<font color='blue'> 3. Call its \"fit\" method on the predictors \"X\" and \"y\". </font>\n",
    "\n",
    "<p><font color='green'>Tip: to display inline help, move your cursor to the end of the next code chunk and press TAB:</font>"
   ]
  },
  {
   "cell_type": "markdown",
   "metadata": {},
   "source": [
    "<font color='blue'> START CODE HERE </font>"
   ]
  },
  {
   "cell_type": "markdown",
   "metadata": {},
   "source": [
    "In this case, the data is in the same scale. \n",
    "Nevertheless, because it is very important to have the data in the same in scale when using SVMs, let's scale the data, so it becomes second-nature for us. \n",
    "We use a pipeline in this case."
   ]
  },
  {
   "cell_type": "code",
   "execution_count": null,
   "metadata": {
    "colab": {
     "autoexec": {
      "startup": false,
      "wait_interval": 0
     }
    },
    "colab_type": "code",
    "id": "ndezImPS88wd"
   },
   "outputs": [],
   "source": [
    "# Write Python code here\n",
    "\n"
   ]
  },
  {
   "cell_type": "markdown",
   "metadata": {},
   "source": [
    "<font color='blue'> END CODE HERE </font>\n"
   ]
  },
  {
   "cell_type": "markdown",
   "metadata": {
    "colab_type": "text",
    "id": "o0ajJ8eA76u4"
   },
   "source": [
    "### <font color='blue'> Question 2:  What can you do with the `mySVM` object? Move your cursor the end and hit TAB: </font>"
   ]
  },
  {
   "cell_type": "code",
   "execution_count": null,
   "metadata": {},
   "outputs": [],
   "source": [
    "mySVM."
   ]
  },
  {
   "cell_type": "markdown",
   "metadata": {},
   "source": [
    "<b> Write the answer here:</b>\n",
    "#####################################################################################################################\n",
    "\n",
    "(Double-click here)\n",
    "\n",
    "\n",
    "#####################################################################################################################"
   ]
  },
  {
   "cell_type": "markdown",
   "metadata": {},
   "source": [
    "## Display decision boundary - hyperplane in the training set"
   ]
  },
  {
   "cell_type": "markdown",
   "metadata": {
    "colab_type": "text",
    "id": "pGAii6pB_b1G"
   },
   "source": [
    "We are interested in the decision function here; let's plot it for the training data to see how well our model is able to separeate the two classes in the training set."
   ]
  },
  {
   "cell_type": "markdown",
   "metadata": {},
   "source": [
    "As we used a pipeline to scale our data, we need to access that module of the pipeline to retrieve the scaled version of the training set:\n",
    "\n",
    "Note: it is not usually necessary to access a middel step of the pipeline. In this case, we are interested in displaying the data after being scaled (standardize); thus, we need to access the module that we called \"Transform\"."
   ]
  },
  {
   "cell_type": "code",
   "execution_count": null,
   "metadata": {},
   "outputs": [],
   "source": [
    "#X_train_scaled =..."
   ]
  },
  {
   "cell_type": "code",
   "execution_count": null,
   "metadata": {
    "colab": {
     "autoexec": {
      "startup": false,
      "wait_interval": 0
     }
    },
    "colab_type": "code",
    "id": "QGC-VLLanqkK"
   },
   "outputs": [],
   "source": [
    "plt.scatter(X_train_scaled[:, 0], X_train_scaled[:, 1], c=y_train, s=30, cmap=plt.cm.Paired)\n",
    "ax = plt.gca()\n",
    "xlim = ax.get_xlim()\n",
    "ylim = ax.get_ylim()\n",
    "\n",
    "# create grid to evaluate model\n",
    "xx = np.linspace(xlim[0], xlim[1], 30)\n",
    "yy = np.linspace(ylim[0], ylim[1], 30)\n",
    "YY, XX = np.meshgrid(yy, xx)\n",
    "xy = np.vstack([XX.ravel(), YY.ravel()]).T\n",
    "Z = mySVM.decision_function(xy).reshape(XX.shape)\n",
    "\n",
    "# plot decision boundary and margins\n",
    "ax.contour(XX, YY, Z, colors='k', levels=[-1, 0, 1], alpha=0.5,\n",
    "           linestyles=['--', '-', '--'])"
   ]
  },
  {
   "cell_type": "markdown",
   "metadata": {},
   "source": [
    "Note that the data has been standarized (scaled)."
   ]
  },
  {
   "cell_type": "markdown",
   "metadata": {},
   "source": [
    "## Display decision boundary - hyperplane in the test set"
   ]
  },
  {
   "cell_type": "markdown",
   "metadata": {},
   "source": [
    "We are interested in the decision function here, let's plot it for the test data to see how well our model is able to separeate the two classes in the test set.\n",
    "\n",
    "As we used a pipeline to scale our data, we need to access that module of the pipeline to retrieve the scaled version of the test set:"
   ]
  },
  {
   "cell_type": "code",
   "execution_count": null,
   "metadata": {},
   "outputs": [],
   "source": [
    "#X_test_scaled..."
   ]
  },
  {
   "cell_type": "code",
   "execution_count": null,
   "metadata": {},
   "outputs": [],
   "source": [
    "plt.scatter(X_test_scaled[:, 0], X_test_scaled[:, 1], c=y_test, s=30, cmap=plt.cm.Paired)\n",
    "ax = plt.gca()\n",
    "xlim = ax.get_xlim()\n",
    "ylim = ax.get_ylim()\n",
    "\n",
    "# create grid to evaluate model\n",
    "xx = np.linspace(xlim[0], xlim[1], 30)\n",
    "yy = np.linspace(ylim[0], ylim[1], 30)\n",
    "YY, XX = np.meshgrid(yy, xx)\n",
    "xy = np.vstack([XX.ravel(), YY.ravel()]).T\n",
    "Z = mySVM.decision_function(xy).reshape(XX.shape)\n",
    "\n",
    "# plot decision boundary and margins\n",
    "ax.contour(XX, YY, Z, colors='k', levels=[-1, 0, 1], alpha=0.5,\n",
    "           linestyles=['--', '-', '--'])"
   ]
  },
  {
   "cell_type": "markdown",
   "metadata": {},
   "source": [
    "### <font color='blue'> Question 3:  How good is this SVM classifier? Test it in the training and test sets </font>"
   ]
  },
  {
   "cell_type": "markdown",
   "metadata": {
    "colab_type": "text",
    "id": "nCTbu9BUoNej"
   },
   "source": [
    "In this easy example, we don't need to tune much, because with the default values we already achieve perfect separation:"
   ]
  },
  {
   "cell_type": "markdown",
   "metadata": {},
   "source": [
    "<font color='blue'> START CODE HERE </font>"
   ]
  },
  {
   "cell_type": "code",
   "execution_count": null,
   "metadata": {
    "colab": {
     "autoexec": {
      "startup": false,
      "wait_interval": 0
     }
    },
    "colab_type": "code",
    "id": "ndezImPS88wd"
   },
   "outputs": [],
   "source": [
    "# Write Python code here\n"
   ]
  },
  {
   "cell_type": "markdown",
   "metadata": {},
   "source": [
    "<font color='blue'> END CODE HERE </font>\n"
   ]
  },
  {
   "cell_type": "markdown",
   "metadata": {
    "colab_type": "text",
    "id": "TFGuvCL9oX6B"
   },
   "source": [
    "For less straightforward examples, the penalty parameter `C` needs to be tuned, as well as the kernel parameters (if kernel is not `linear`).\n",
    "\n",
    "> Try smaller and larger values for `C`, and interpret the results!\n",
    "\n"
   ]
  },
  {
   "cell_type": "markdown",
   "metadata": {
    "colab_type": "text",
    "id": "vaX5eUetF8wf"
   },
   "source": [
    "We can read off the intercept, coefficients and support vectors as follows: "
   ]
  },
  {
   "cell_type": "code",
   "execution_count": null,
   "metadata": {
    "colab": {
     "autoexec": {
      "startup": false,
      "wait_interval": 0
     }
    },
    "colab_type": "code",
    "id": "ZpzI1XxVGU_M"
   },
   "outputs": [],
   "source": [
    "(beta, alpha, V) = (mySVM.intercept_, mySVM.dual_coef_, mySVM.support_vectors_)\n",
    "(beta, alpha, V)"
   ]
  },
  {
   "cell_type": "markdown",
   "metadata": {},
   "source": [
    "If you have used a Pipeline above, there is an alternative to write this code. Check the solution notebook."
   ]
  },
  {
   "cell_type": "markdown",
   "metadata": {
    "colab_type": "text",
    "id": "cfMn3DbhbD9O"
   },
   "source": [
    "## Applied to breast cancer data"
   ]
  },
  {
   "cell_type": "code",
   "execution_count": null,
   "metadata": {
    "colab": {
     "autoexec": {
      "startup": false,
      "wait_interval": 0
     }
    },
    "colab_type": "code",
    "id": "c_MwDVLPalZN"
   },
   "outputs": [],
   "source": [
    "# get data\n",
    "cancer = pd.read_csv('data/breast-cancer-wisconsin-data/data.csv', sep=',')\n",
    "\n",
    "# In case we want to shuffle rows, you can proceed as follows:\n",
    "#cancer = cancer.reindex(np.random.permutation(cancer.index))\n",
    "#cancer.info()"
   ]
  },
  {
   "cell_type": "code",
   "execution_count": null,
   "metadata": {
    "colab": {
     "autoexec": {
      "startup": false,
      "wait_interval": 0
     }
    },
    "colab_type": "code",
    "id": "qfSgY_3xbLDh"
   },
   "outputs": [],
   "source": [
    "y = (cancer.diagnosis == 'M')\n",
    "print(f\"\"\"There are {sum(y)} malignant and {sum(1-y)} benign cases.\"\"\")"
   ]
  },
  {
   "cell_type": "markdown",
   "metadata": {},
   "source": [
    "### <font color='blue'> For questions 4 and 5: we are not using a Pipeline in these questions."
   ]
  },
  {
   "cell_type": "markdown",
   "metadata": {
    "colab_type": "text",
    "id": "UY0sb01zy8Ud"
   },
   "source": [
    "### <font color='blue'> Question 4: Use `StandardScaler()` from the submodule `preprocessing` to scale the training data.  It is very important to scale the data when we use SVMs.</font>"
   ]
  },
  {
   "cell_type": "markdown",
   "metadata": {
    "colab_type": "text",
    "id": "IsuXGh22zTK0"
   },
   "source": [
    "<font color='blue'> START CODE HERE </font>"
   ]
  },
  {
   "cell_type": "code",
   "execution_count": null,
   "metadata": {
    "colab": {
     "autoexec": {
      "startup": false,
      "wait_interval": 0
     }
    },
    "colab_type": "code",
    "id": "ARFNwx4pwKXA"
   },
   "outputs": [],
   "source": [
    "# Write Python code here:\n"
   ]
  },
  {
   "cell_type": "markdown",
   "metadata": {
    "colab_type": "text",
    "id": "OWeu1489zT7e"
   },
   "source": [
    "<font color='blue'> END CODE HERE </font>"
   ]
  },
  {
   "cell_type": "markdown",
   "metadata": {
    "colab_type": "text",
    "id": "Ekc6YZbizf_z"
   },
   "source": [
    "### <font color='blue'> Question 5: </font>\n",
    "<p>\n",
    "1. <font color='blue'>Do not use a Pipeline this time. Fit a support vector classifier `SVC()` to the now scaled training data. Make classifier compute probabilities. \n",
    "<p>\n",
    "2. <font color='blue'>Transform the test data with the same scaling transformation as the train data.\n",
    "<p>\n",
    "3. <font color='blue'>Compute\n",
    "    * the predictions `y_pred` on the test data, according to the decision function\n",
    "    * the class probabilities `y_score` on the test data.\n",
    "<p>\n",
    "4. <font color='blue'>Calculate\n",
    "    * the confusion matrix for your predictions\n",
    "    * plot the ROC curve and compute the AUC"
   ]
  },
  {
   "cell_type": "markdown",
   "metadata": {
    "colab_type": "text",
    "id": "aoI_uLZH0nOB"
   },
   "source": [
    "<font color='blue'> START CODE HERE </font>"
   ]
  },
  {
   "cell_type": "code",
   "execution_count": null,
   "metadata": {
    "colab": {
     "autoexec": {
      "startup": false,
      "wait_interval": 0
     }
    },
    "colab_type": "code",
    "id": "CRSBsVOUdIfr"
   },
   "outputs": [],
   "source": [
    "# Write Python code here:\n",
    "\n"
   ]
  },
  {
   "cell_type": "markdown",
   "metadata": {
    "colab_type": "text",
    "id": "TKUh1v4f0mt5"
   },
   "source": [
    "<font color='blue'> END CODE HERE </font>"
   ]
  },
  {
   "cell_type": "markdown",
   "metadata": {
    "colab_type": "text",
    "id": "HOvGZxUFdg08"
   },
   "source": [
    "## Tuning the hyperparameters: grid search"
   ]
  },
  {
   "cell_type": "markdown",
   "metadata": {
    "colab_type": "text",
    "id": "Y_WEZo2C4JQ1"
   },
   "source": [
    "### <font color='blue'> Question 6: </font>\n",
    "1. <font color='blue'>Using `Pipeline()`, create an estimator which automatically transforms the input data and fits a SVC.\n",
    "2. <font color='blue'>Train it on the training data.\n",
    "3. <font color='blue'>Evaluate it on the test data."
   ]
  },
  {
   "cell_type": "markdown",
   "metadata": {
    "colab_type": "text",
    "id": "FHxqsxif4FeP"
   },
   "source": [
    "<font color='blue'> START CODE HERE </font>"
   ]
  },
  {
   "cell_type": "code",
   "execution_count": null,
   "metadata": {
    "colab": {
     "autoexec": {
      "startup": false,
      "wait_interval": 0
     }
    },
    "colab_type": "code",
    "id": "N94T8-0BnwVv"
   },
   "outputs": [],
   "source": [
    "# Write Python code here:\n"
   ]
  },
  {
   "cell_type": "markdown",
   "metadata": {
    "colab_type": "text",
    "id": "Ipf4XKDI4GaG"
   },
   "source": [
    "<font color='blue'> END CODE HERE </font>"
   ]
  },
  {
   "cell_type": "markdown",
   "metadata": {
    "colab_type": "text",
    "id": "NG2ekkWk0pmS"
   },
   "source": [
    "### <font color='blue'> Question 7: </font>\n",
    "\n",
    "<font color='blue'> Next we want to systematically try different parameter settings for our estimator. Use `GridSearchCV()` to perform 5-fold cross-validation for the following parameters: \n",
    "* Try the kernels `linear`, `rbf` and `poly`\n",
    "* Try values 1, 10, 100, 1000 for `C`\n",
    "* Try values of `gamma` which are smaller or larger than the default\n",
    "\n",
    "Pick a useful score to be maximised from [here](http://scikit-learn.org/stable/modules/model_evaluation.html)."
   ]
  },
  {
   "cell_type": "markdown",
   "metadata": {
    "colab_type": "text",
    "id": "RKdMsIqT7QZd"
   },
   "source": [
    "<font color='blue'> START CODE HERE </font>"
   ]
  },
  {
   "cell_type": "code",
   "execution_count": null,
   "metadata": {},
   "outputs": [],
   "source": [
    "# Write Python code here:\n",
    "\n"
   ]
  },
  {
   "cell_type": "markdown",
   "metadata": {
    "colab_type": "text",
    "id": "XUFCseTC7Qsg"
   },
   "source": [
    "<font color='blue'> END CODE HERE </font>"
   ]
  },
  {
   "cell_type": "markdown",
   "metadata": {
    "colab_type": "text",
    "id": "GUqpgIqHiCq6"
   },
   "source": [
    "## Tuning the hyperparameters: random search"
   ]
  },
  {
   "cell_type": "markdown",
   "metadata": {
    "colab_type": "text",
    "id": "ozVoSBm09I54"
   },
   "source": [
    "Usually, a better search strategy is **random search**, which \n",
    "1. specifies a distribution for each parameter\n",
    "2. repeatedly draws a set of parameters and evaluates this draw using CV\n",
    "3. stops after a previously decided number of iterations. \n",
    "\n",
    "### <font color='blue'> Question 8: </font>\n",
    "<font color='blue'> Use `RandomizedSearchCV` with suitable exponential distributions (`scipy.stats.expon()`) for `C` and `gamma`. \n",
    "Choose a kernel at random. </font>\n",
    "\n",
    "Tip: Read\n",
    "1. https://scikit-learn.org/stable/modules/generated/sklearn.model_selection.RandomizedSearchCV.html\n",
    "2. https://scikit-learn.org/stable/modules/grid_search.html (See example 5.2.2 and copy it).\n",
    "3. https://scikit-learn.org/stable/auto_examples/model_selection/plot_randomized_search.html\n",
    "4. https://chrisalbon.com/machine_learning/model_selection/hyperparameter_tuning_using_random_search/\n"
   ]
  },
  {
   "cell_type": "markdown",
   "metadata": {
    "colab_type": "text",
    "id": "NTyc_5jp-E8r"
   },
   "source": [
    "<font color='blue'> START CODE HERE </font>"
   ]
  },
  {
   "cell_type": "code",
   "execution_count": null,
   "metadata": {
    "colab": {
     "autoexec": {
      "startup": false,
      "wait_interval": 0
     }
    },
    "colab_type": "code",
    "id": "yDZaAVH-QTHH"
   },
   "outputs": [],
   "source": [
    "from scipy.stats import expon\n",
    "\n",
    "# Write Python code here:\n",
    "\n",
    "# Example: parameter_distribution = {'svc__C': expon(scale=10), 'svc__gamma': expon(scale=1/30),\n",
    "#'svc__kernel': ['rbf'], 'svc__class_weight':['balanced', None]}\n",
    "# "
   ]
  },
  {
   "cell_type": "code",
   "execution_count": null,
   "metadata": {},
   "outputs": [],
   "source": [
    "# Write Python code here:\n"
   ]
  },
  {
   "cell_type": "markdown",
   "metadata": {
    "colab_type": "text",
    "id": "4V8o9v-9-FjO"
   },
   "source": [
    "<font color='blue'> END CODE HERE </font>"
   ]
  }
 ],
 "metadata": {
  "accelerator": "GPU",
  "colab": {
   "collapsed_sections": [],
   "default_view": {},
   "name": "05-svm-exercise.ipynb",
   "provenance": [
    {
     "file_id": "1LWHPo7NlWNBWMXJoSaWB4ycQlcnnTyL9",
     "timestamp": 1532585981374
    }
   ],
   "toc_visible": true,
   "version": "0.3.2",
   "views": {}
  },
  "kernelspec": {
   "display_name": "Python 3",
   "language": "python",
   "name": "python3"
  },
  "language_info": {
   "codemirror_mode": {
    "name": "ipython",
    "version": 3
   },
   "file_extension": ".py",
   "mimetype": "text/x-python",
   "name": "python",
   "nbconvert_exporter": "python",
   "pygments_lexer": "ipython3",
   "version": "3.6.9"
  }
 },
 "nbformat": 4,
 "nbformat_minor": 1
}
