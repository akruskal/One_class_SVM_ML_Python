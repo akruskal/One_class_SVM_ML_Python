{
 "cells": [
  {
   "cell_type": "markdown",
   "metadata": {
    "colab_type": "text",
    "id": "LhAuYLjEbnXO"
   },
   "source": [
    "![alt text](images/HDAT9500Banner.PNG)\n",
    "<br>"
   ]
  },
  {
   "cell_type": "markdown",
   "metadata": {},
   "source": [
    "# Chapter 5: One-Class-SVM."
   ]
  },
  {
   "cell_type": "markdown",
   "metadata": {},
   "source": [
    "#####################################################################################\n",
    "\n",
    "Double-click to write down your name and surname.\n",
    "\n",
    "**Name:**\n",
    "Alexander\n",
    "\n",
    "**Surname:**\n",
    "Kruskal\n",
    "\n",
    "**Honour Pledge** <p>\n",
    "    \n",
    "    \n",
    "Declaration: <p>\n",
    "    \n",
    "    \n",
    "I declare that this assessment item is my own work, except where acknowledged, and has not been submitted for academic credit elsewhere or previously, or produced independently of this course (e.g. for a third party such as your place of employment) and acknowledge that the assessor of this item may, for the purpose of assessing this item: \n",
    "\n",
    "    a. Reproduce this assessment item and provide a copy to another member of the University; and/or \n",
    "    b. Communicate a copy of this assessment item to a plagiarism checking service (which may then retain a copy of the assessment item on its database for the purpose of future plagiarism checking). \n",
    "\n",
    "#####################################################################################"
   ]
  },
  {
   "cell_type": "markdown",
   "metadata": {
    "colab_type": "text",
    "id": "DQ2-r1VulPxi"
   },
   "source": [
    "# Anomaly detection via One-Class-SVM using the breast cancer data set\n",
    "\n",
    "Suppose that we have a data set in which one class (e.g. malignant) is so underrepresented that there isn't enough data to fit a two-class classifier. Imagine that this is a very rare type of cancer and we do not have many cancer cases (malignant tumours) to obtain samples, and therefore, we do not have enough samples of malignant tumours <font color=red>**to train**</font> our algorithm. \n",
    "\n",
    "Thus, imagine that we have no images available of malignant tumours to train our model, only bening cases.\n",
    "\n",
    "\n",
    "In **anomaly detection** one approach to solve our problem is as follows: \n",
    "1. Learn the distribution of the normal cases, benign cases in this example. Thus, we train our model with benign cases ONLY.\n",
    "2. For newly incoming data, compare how well these fit with the learnt model. The newly incoming data will have both, benign and malingnant cases.\n",
    "3. As the model has been trained to identify ONLY benign cases, everything that is not benign in the final model, will be classified as \"not benign\", thus malignant. Therefore, we have to test our model with benign and malingnant cases in order to assess its performance.\n",
    "\n",
    "The result is an algorithm which proposes the tumours which are least likely to be normal. If datasets are large but anomalies are very few, this could save the doctor a lot of time. \n",
    "\n",
    "Other applications of this approach could be\n",
    "* credit card fraud detection: for each fraudulent transaction, there are thousands of valid transactions\n",
    "* directing the attention of Department of Health/AIHW/your company case officers browsing suspicious matter reports\n",
    "* ...\n",
    "\n",
    "This is our first example of unsupervised learning!\n",
    "\n",
    "We will use [`OneClassSVM()`](http://scikit-learn.org/stable/modules/generated/sklearn.svm.OneClassSVM.html) from sklearn. "
   ]
  },
  {
   "cell_type": "code",
   "execution_count": 1,
   "metadata": {},
   "outputs": [],
   "source": [
    "import warnings; warnings.simplefilter('ignore')"
   ]
  },
  {
   "cell_type": "markdown",
   "metadata": {
    "colab_type": "text",
    "id": "tza0c6Y9GiaE"
   },
   "source": [
    "### <font color='blue'> Question 1 (25 marks): </font>\n",
    "\n",
    "1. <font color='blue'> Extract all the predictors for the benign cases into a matrix `X_B` and for the malignant cases into a matrix `X_M`. Make sure the output, y_B=1 and y_M=-1.\n",
    "2. <font color='blue'> Split the benign cases into an 70% training and 30% testing set. \n",
    "3. <font color='blue'> Remember that we will have only one class to train our model, just benign cases. \n",
    "4. The way the final model works is like this: because the model has been trained to identify ONLY benign cases, everything that is not benign in the final model, will be classified as \"not benign\", thus malignant. You can write it as X_B_train, X_B_test, y_train, y_test= train_test_split(...). "
   ]
  },
  {
   "cell_type": "code",
   "execution_count": 2,
   "metadata": {},
   "outputs": [],
   "source": [
    "import numpy as np\n",
    "import pandas as pd\n",
    "import matplotlib.pyplot as plt\n",
    "from sklearn.svm               import *\n",
    "from sklearn.metrics           import *\n",
    "from sklearn.preprocessing     import *"
   ]
  },
  {
   "cell_type": "code",
   "execution_count": 3,
   "metadata": {},
   "outputs": [],
   "source": [
    "def outcome_split(data_frame, column_names):\n",
    "    \"\"\"\n",
    "    split dataframe between features and outcomes\n",
    "    \n",
    "    data_frames: dataframes\n",
    "    column_names: string names in list (names after first index are just removed)\n",
    "    \n",
    "    return: data_frame with removed column_names, outcome_df\n",
    "    \"\"\"\n",
    "    \n",
    "    outcome_df = data_frame[column_names[0]].values\n",
    "    data_frame = data_frame.drop(columns= column_names, axis = 1)\n",
    "    return (data_frame, outcome_df)"
   ]
  },
  {
   "cell_type": "code",
   "execution_count": 4,
   "metadata": {
    "colab": {
     "autoexec": {
      "startup": false,
      "wait_interval": 0
     }
    },
    "colab_type": "code",
    "id": "rFB6WqwVnBYw"
   },
   "outputs": [],
   "source": [
    "# get data\n",
    "cancer = pd.read_csv('data/breast-cancer-wisconsin-data/data.csv', sep=',')\n",
    "\n",
    "#Change diagnosis to 1 where B and -1 where M\n",
    "cancer['diagnosis'] = cancer['diagnosis'].apply(lambda x: 1 if x == 'B' else -1)\n",
    "\n",
    "#split by diagnosis\n",
    "X_B = cancer[cancer.diagnosis == 1]\n",
    "X_M = cancer[cancer.diagnosis == -1]\n",
    "\n",
    "#split outcome from features and remove diagnosis and id\n",
    "X_B, y_B = outcome_split(X_B,['diagnosis', 'id'])\n",
    "X_M,y_M = outcome_split(X_M,['diagnosis', 'id'])\n",
    "\n"
   ]
  },
  {
   "cell_type": "code",
   "execution_count": 6,
   "metadata": {},
   "outputs": [],
   "source": [
    "#split data\n",
    "from sklearn.model_selection import train_test_split\n",
    "X_B_train, X_B_test, y_train, y_test = train_test_split(X_B, y_B.ravel(), stratify=y_B, random_state=0, test_size = 0.30)"
   ]
  },
  {
   "cell_type": "markdown",
   "metadata": {
    "colab_type": "text",
    "id": "QKdjt09mHEZZ"
   },
   "source": [
    "### <font color='blue'> Question 2: Fit the model. No need to tune the parameters. Set nu to 0.01 and gamma to 0.005. (25 marks)</font>"
   ]
  },
  {
   "cell_type": "code",
   "execution_count": 7,
   "metadata": {
    "colab": {
     "autoexec": {
      "startup": false,
      "wait_interval": 0
     }
    },
    "colab_type": "code",
    "id": "rFB6WqwVnBYw"
   },
   "outputs": [
    {
     "data": {
      "text/plain": [
       "OneClassSVM(cache_size=200, coef0=0.0, degree=3, gamma=0.005, kernel='rbf',\n",
       "      max_iter=-1, nu=0.01, random_state=None, shrinking=True, tol=0.001,\n",
       "      verbose=False)"
      ]
     },
     "execution_count": 7,
     "metadata": {},
     "output_type": "execute_result"
    }
   ],
   "source": [
    "#scale data\n",
    "scaler = StandardScaler()\n",
    "scaler.fit(X_B_train)\n",
    "X_B_train_scaled = scaler.transform(X_B_train)\n",
    "\n",
    "#Single class SVM\n",
    "one_class_svm_cancer= OneClassSVM(nu = .01, gamma = .005)\n",
    "one_class_svm_cancer.fit(X_B_train_scaled, y_train)"
   ]
  },
  {
   "cell_type": "markdown",
   "metadata": {
    "colab_type": "text",
    "id": "4J4fnCrfIptj"
   },
   "source": [
    "### <font color='blue'> Question 3: Before carrying out the final test, we have to assess how our model performs on the benign cases test set (X_B_test). How good is the model at predicting the right class for data? (15 marks)</font>"
   ]
  },
  {
   "cell_type": "code",
   "execution_count": 8,
   "metadata": {
    "colab": {
     "autoexec": {
      "startup": false,
      "wait_interval": 0
     }
    },
    "colab_type": "code",
    "id": "CRSBsVOUdIfr"
   },
   "outputs": [],
   "source": [
    "X_B_test_scaled = scaler.transform(X_B_test)"
   ]
  },
  {
   "cell_type": "code",
   "execution_count": 9,
   "metadata": {
    "colab": {
     "autoexec": {
      "startup": false,
      "wait_interval": 0
     }
    },
    "colab_type": "code",
    "id": "CRSBsVOUdIfr"
   },
   "outputs": [],
   "source": [
    "y_pred_test = one_class_svm_cancer.predict(X_B_test_scaled)"
   ]
  },
  {
   "cell_type": "code",
   "execution_count": 10,
   "metadata": {},
   "outputs": [
    {
     "name": "stdout",
     "output_type": "stream",
     "text": [
      "Confusion matrix of the benign only test set:\n",
      "[[  0   0]\n",
      " [  5 103]]\n"
     ]
    }
   ],
   "source": [
    "print(\"Confusion matrix of the benign only test set:\")\n",
    "cm = confusion_matrix(y_true = y_test, y_pred = y_pred_test)\n",
    "print(cm)"
   ]
  },
  {
   "cell_type": "code",
   "execution_count": 11,
   "metadata": {},
   "outputs": [
    {
     "name": "stdout",
     "output_type": "stream",
     "text": [
      "Precision, Recall, F1-score for positive and negative classes of the  benign only test set:\n",
      "             precision    recall  f1-score   support\n",
      "\n",
      "         -1       0.00      0.00      0.00         0\n",
      "          1       1.00      0.95      0.98       108\n",
      "\n",
      "avg / total       1.00      0.95      0.98       108\n",
      "\n",
      "Accuracy for benign only test: 0.954.\n"
     ]
    }
   ],
   "source": [
    "print(\"Precision, Recall, F1-score for positive and negative classes of the  benign only test set:\")\n",
    "print(classification_report(y_test, y_pred_test))\n",
    "print('Accuracy for benign only test: {:.3f}.'.format(accuracy_score(y_test, y_pred_test)))"
   ]
  },
  {
   "cell_type": "markdown",
   "metadata": {},
   "source": [
    "<b> Write your thoughts here (100 words max):</b>\n",
    "#####################################################################################################################\n",
    "\n",
    "Based on the benign only test set, the model performs really well. precision, recall, and f1 score are not useful measures for the benign only case because there is only True negatives and false negatives.\n",
    "Accuracy is our best scoring detection.\n",
    "\n",
    "The confusion matrix shows 5 false negatives and 103 true negatives. There being several missclassified is a good sign because then there is neither extreme over-fitting to the training set - many false negatives - nor extreme under-fitting to the training set - there being not false negatives.\n",
    "\n",
    "Sithout testing many models, I cannot be sure this is optomised, but it seems to fit well before introducing malignant casses, with an accuracy of 95.4%..\n",
    "\n",
    "\n",
    "#####################################################################################################################"
   ]
  },
  {
   "cell_type": "markdown",
   "metadata": {},
   "source": [
    "### <font color='blue'> Question 4: How good is the model at differentiating malignant from benign cases? (35 marks)</font>"
   ]
  },
  {
   "cell_type": "code",
   "execution_count": 12,
   "metadata": {
    "colab": {
     "autoexec": {
      "startup": false,
      "wait_interval": 0
     }
    },
    "colab_type": "code",
    "id": "rFB6WqwVnBYw"
   },
   "outputs": [],
   "source": [
    "#combine malignant cases with test set\n",
    "X_test_with_M = X_B_test.append(X_M)\n",
    "y_test_with_M = np.concatenate((y_test, y_M), axis=0)\n",
    "\n",
    "#scale new data and predict\n",
    "X_test_with_M_scaled = scaler.transform(X_test_with_M)\n",
    "y_pred_test_with_M = one_class_svm_cancer.predict(X_test_with_M_scaled)"
   ]
  },
  {
   "cell_type": "code",
   "execution_count": 13,
   "metadata": {},
   "outputs": [
    {
     "name": "stdout",
     "output_type": "stream",
     "text": [
      "Confusion matrix of the test set:\n",
      "[[173  39]\n",
      " [  5 103]]\n"
     ]
    }
   ],
   "source": [
    "print(\"Confusion matrix of the test set:\")\n",
    "cm_M = confusion_matrix(y_true = y_test_with_M, y_pred = y_pred_test_with_M)\n",
    "print(cm_M)"
   ]
  },
  {
   "cell_type": "code",
   "execution_count": 14,
   "metadata": {},
   "outputs": [
    {
     "name": "stdout",
     "output_type": "stream",
     "text": [
      "Precision, Recall, F1-score for positive and negative classes of the combined benign and melignant test set:\n",
      "             precision    recall  f1-score   support\n",
      "\n",
      "         -1       0.97      0.82      0.89       212\n",
      "          1       0.73      0.95      0.82       108\n",
      "\n",
      "avg / total       0.89      0.86      0.87       320\n",
      "\n",
      "Accuracy for combined benign and malignant test: 0.863.\n"
     ]
    }
   ],
   "source": [
    "print(\"Precision, Recall, F1-score for positive and negative classes of the combined benign and melignant test set:\")\n",
    "print(classification_report(y_test_with_M, y_pred_test_with_M))\n",
    "print('Accuracy for combined benign and malignant test: {:.3f}.'.format(accuracy_score(y_test_with_M, y_pred_test_with_M)))"
   ]
  },
  {
   "cell_type": "markdown",
   "metadata": {},
   "source": [
    "<b> Write your thoughts here (100 words max):</b>\n",
    "#####################################################################################################################\n",
    "\n",
    "Firstly, I can be pretty sure I combined the malignant and benign cases together correctly because the true and false negatives remained the same as before and we are only adding in malignant cases, which can only be described as true or false positives.\n",
    "\n",
    "Secondly, the model does seem to do a really good job in general. The accuracy is 86.3%, precision for the positive case is 73% (accuracy of positive predictions), recall is 95% (percentage of positive predictions caught), negative recall is 82%, positive is f1-score 82% and negative f1-score is 89% (average of recall and precision). \n",
    "\n",
    "This model performs extremely well, but with some tuning I would hope to increase the positive precision from 73%, especially because missing a rare cancer could be devestating compared to some extra tests. The confusion matrix demonstrates the relatively low precision score, having 39 false negatives to the 173 true positives.\n",
    "\n",
    "\n",
    "#####################################################################################################################"
   ]
  },
  {
   "cell_type": "code",
   "execution_count": null,
   "metadata": {},
   "outputs": [],
   "source": []
  }
 ],
 "metadata": {
  "accelerator": "GPU",
  "colab": {
   "collapsed_sections": [],
   "default_view": {},
   "name": "05-svm-exercise.ipynb",
   "provenance": [
    {
     "file_id": "1LWHPo7NlWNBWMXJoSaWB4ycQlcnnTyL9",
     "timestamp": 1532585981374
    }
   ],
   "toc_visible": true,
   "version": "0.3.2",
   "views": {}
  },
  "kernelspec": {
   "display_name": "Python 3",
   "language": "python",
   "name": "python3"
  },
  "language_info": {
   "codemirror_mode": {
    "name": "ipython",
    "version": 3
   },
   "file_extension": ".py",
   "mimetype": "text/x-python",
   "name": "python",
   "nbconvert_exporter": "python",
   "pygments_lexer": "ipython3",
   "version": "3.6.4"
  }
 },
 "nbformat": 4,
 "nbformat_minor": 1
}
