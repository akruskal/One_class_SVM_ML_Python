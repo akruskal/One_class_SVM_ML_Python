{
 "cells": [
  {
   "cell_type": "markdown",
   "metadata": {
    "colab_type": "text",
    "id": "LhAuYLjEbnXO"
   },
   "source": [
    "![alt text](images/HDAT9500Banner.PNG)\n",
    "<br>"
   ]
  },
  {
   "cell_type": "markdown",
   "metadata": {},
   "source": [
    "# Chapter 5: One-Class-SVM."
   ]
  },
  {
   "cell_type": "markdown",
   "metadata": {
    "colab_type": "text",
    "id": "DQ2-r1VulPxi"
   },
   "source": [
    "# Anomaly detection via One-Class-SVM using the breast cancer data set\n",
    "\n",
    "Suppose that we have a data set in which one class (e.g. malignant) is so underrepresented that there isn't enough data to fit a two-class classifier. Imagine that this is a very rare type of cancer and we do not have many cancer cases to obtain samples, and therefore, to train our algorithm.\n",
    "\n",
    "\n",
    "In **anomaly detection** one approach is as follows: \n",
    "1. Learn the distribution of the normal cases.\n",
    "2. For newly incoming data, compare how well these fit with the learnt distribution. \n",
    "3. Rank the new data in decreasing order of the quality of fit with the learnt distribution.\n",
    "\n",
    "The result is an algorithm which proposes e.g. to a doctor the measurements which are least likely to be normal. If datasets are large but anomalies are very few, this could save the doctor a lot of time. \n",
    "\n",
    "Other applications of this approach could be\n",
    "* credit card fraud detection: for each fraudulent transaction, there are thousands of valid transactions\n",
    "* directing the attention of Department of Health/AIHW/your company case officers browsing suspicious matter reports\n",
    "* ...\n",
    "\n",
    "We will use [`OneClassSVM()`](http://scikit-learn.org/stable/modules/generated/sklearn.svm.OneClassSVM.html) from sklearn. "
   ]
  },
  {
   "cell_type": "code",
   "execution_count": 2,
   "metadata": {
    "colab": {
     "autoexec": {
      "startup": false,
      "wait_interval": 0
     }
    },
    "colab_type": "code",
    "id": "JTrhTd6Obam1"
   },
   "outputs": [],
   "source": [
    "import numpy as np\n",
    "import pandas as pd\n",
    "import matplotlib.pyplot as plt\n",
    "from sklearn.svm               import *\n",
    "from sklearn.datasets          import make_blobs\n",
    "from sklearn.metrics           import *\n",
    "from sklearn.preprocessing     import *\n",
    "from sklearn.model_selection   import *\n",
    "from sklearn.pipeline          import *"
   ]
  },
  {
   "cell_type": "markdown",
   "metadata": {
    "colab_type": "text",
    "id": "6fjrJuEP579i"
   },
   "source": [
    "We have loaded several submodules of `sklearn`. To learn as you go: \n",
    "\n",
    "* The documentation of each method can be accessed by pressing the TAB button inside parenthesis, e.g. in `SVC()`.\n",
    "* `sklearn` has more detailed documentation online, see e.g. <http://scikit-learn.org/stable/modules/svm.html>. "
   ]
  },
  {
   "cell_type": "code",
   "execution_count": 3,
   "metadata": {
    "colab": {
     "autoexec": {
      "startup": false,
      "wait_interval": 0
     }
    },
    "colab_type": "code",
    "id": "c_MwDVLPalZN"
   },
   "outputs": [],
   "source": [
    "# get data\n",
    "cancer = pd.read_csv('data/breast-cancer-wisconsin-data/data.csv', sep=',')"
   ]
  },
  {
   "cell_type": "code",
   "execution_count": 8,
   "metadata": {
    "colab": {
     "autoexec": {
      "startup": false,
      "wait_interval": 0
     }
    },
    "colab_type": "code",
    "id": "qfSgY_3xbLDh"
   },
   "outputs": [
    {
     "name": "stdout",
     "output_type": "stream",
     "text": [
      "There are 212 malignant and 357 benign cases.\n"
     ]
    }
   ],
   "source": [
    "y = (cancer.diagnosis == 'M')\n",
    "print(f\"\"\"There are {sum(y)} malignant and {sum(1-y)} benign cases.\"\"\")"
   ]
  },
  {
   "cell_type": "code",
   "execution_count": 9,
   "metadata": {},
   "outputs": [],
   "source": [
    "X = cancer.drop(['diagnosis'], axis = 1)\n",
    "y = cancer[['diagnosis']].values"
   ]
  },
  {
   "cell_type": "markdown",
   "metadata": {
    "colab_type": "text",
    "id": "tza0c6Y9GiaE"
   },
   "source": [
    "### <font color='blue'> Question 1 (25 marks): </font>\n",
    "1. <font color='blue'> Extract all the predictors for the benign cases into a matrix `X_B` and for the malignant cases into a matrix `X_M`. \n",
    "2. <font color='blue'> Split the benign cases into an 80% training and 20% testing set. Remember that we will have only one class, benign cases (everything that is not benign in the final classifier, will be malign). Therefore, no need to have \"y\" as an output. You can write it as X_B_train, X_B_test = train_test_split(...)"
   ]
  },
  {
   "cell_type": "markdown",
   "metadata": {
    "colab_type": "text",
    "id": "3PmMF29UCorK"
   },
   "source": [
    "<font color='blue'> START CODE HERE </font>"
   ]
  },
  {
   "cell_type": "code",
   "execution_count": 0,
   "metadata": {
    "colab": {
     "autoexec": {
      "startup": false,
      "wait_interval": 0
     }
    },
    "colab_type": "code",
    "id": "rFB6WqwVnBYw"
   },
   "outputs": [],
   "source": [
    "# Write Python code here:\n"
   ]
  },
  {
   "cell_type": "markdown",
   "metadata": {
    "colab_type": "text",
    "id": "ZriIHaaJCpzX"
   },
   "source": [
    "<font color='blue'> END CODE HERE </font>"
   ]
  },
  {
   "cell_type": "markdown",
   "metadata": {
    "colab_type": "text",
    "id": "QKdjt09mHEZZ"
   },
   "source": [
    "### <font color='blue'> Question 2 (25 marks):</font>\n",
    "1. <font color='blue'>Using `Pipeline()`, create an \"estimator\" for the learnt distribution, which \n",
    "    * standardises the input\n",
    "    * fits a `OneClassSVM()` such that the decision boundary contains the smallest volume containing the most likely 95% of data points. \n",
    "2. <font color='blue'>Fit this estimator to the training data. "
   ]
  },
  {
   "cell_type": "markdown",
   "metadata": {
    "colab_type": "text",
    "id": "7VaUw23zHXjU"
   },
   "source": [
    "<font color='blue'> START CODE HERE </font>"
   ]
  },
  {
   "cell_type": "code",
   "execution_count": 0,
   "metadata": {
    "colab": {
     "autoexec": {
      "startup": false,
      "wait_interval": 0
     }
    },
    "colab_type": "code",
    "id": "fNYNDJBml6gv"
   },
   "outputs": [],
   "source": [
    "# Write Python code here:\n"
   ]
  },
  {
   "cell_type": "markdown",
   "metadata": {
    "colab_type": "text",
    "id": "68EzY-ohHeCo"
   },
   "source": [
    "<font color='blue'> END CODE HERE </font>"
   ]
  },
  {
   "cell_type": "markdown",
   "metadata": {
    "colab_type": "text",
    "id": "4J4fnCrfIptj"
   },
   "source": [
    "### <font color='blue'> Question 3 (25 marks):</font>\n",
    "<font color='blue'>Confirm that your anomaly detector indeed classifies approximately 95% of the training data as \"normal\". \n",
    "How does it classify the test data? "
   ]
  },
  {
   "cell_type": "markdown",
   "metadata": {
    "colab_type": "text",
    "id": "3B_Rz85OJSk0"
   },
   "source": [
    "<font color='blue'> START CODE HERE </font>"
   ]
  },
  {
   "cell_type": "markdown",
   "metadata": {
    "colab_type": "text",
    "id": "WYBrqly1Ju2v"
   },
   "source": [
    "On the training data:"
   ]
  },
  {
   "cell_type": "code",
   "execution_count": 0,
   "metadata": {
    "colab": {
     "autoexec": {
      "startup": false,
      "wait_interval": 0
     },
     "base_uri": "https://localhost:8080/",
     "height": 34
    },
    "colab_type": "code",
    "executionInfo": {
     "elapsed": 723,
     "status": "ok",
     "timestamp": 1532584628385,
     "user": {
      "displayName": "Peter Straka",
      "photoUrl": "//lh4.googleusercontent.com/-Fr2v7EmmYHE/AAAAAAAAAAI/AAAAAAABovQ/3dJkQxtzY1s/s50-c-k-no/photo.jpg",
      "userId": "109889843343605614645"
     },
     "user_tz": -480
    },
    "id": "vTG4369PHcfu",
    "outputId": "fcd1f5e9-ada2-45de-fc94-d5c6dcf11718"
   },
   "outputs": [
    {
     "data": {
      "text/plain": [
       "0.0456140350877193"
      ]
     },
     "execution_count": 118,
     "metadata": {
      "tags": []
     },
     "output_type": "execute_result"
    }
   ],
   "source": [
    "# Write Python code here:\n"
   ]
  },
  {
   "cell_type": "markdown",
   "metadata": {
    "colab_type": "text",
    "id": "vOK3s9lcJxM7"
   },
   "source": [
    "On the test data:"
   ]
  },
  {
   "cell_type": "code",
   "execution_count": 0,
   "metadata": {
    "colab": {
     "autoexec": {
      "startup": false,
      "wait_interval": 0
     },
     "base_uri": "https://localhost:8080/",
     "height": 34
    },
    "colab_type": "code",
    "executionInfo": {
     "elapsed": 531,
     "status": "ok",
     "timestamp": 1532584632070,
     "user": {
      "displayName": "Peter Straka",
      "photoUrl": "//lh4.googleusercontent.com/-Fr2v7EmmYHE/AAAAAAAAAAI/AAAAAAABovQ/3dJkQxtzY1s/s50-c-k-no/photo.jpg",
      "userId": "109889843343605614645"
     },
     "user_tz": -480
    },
    "id": "1SE_qxXNJrI5",
    "outputId": "6e6c7997-8620-43e6-bde4-cbf2799fa127"
   },
   "outputs": [
    {
     "data": {
      "text/plain": [
       "0.041666666666666664"
      ]
     },
     "execution_count": 119,
     "metadata": {
      "tags": []
     },
     "output_type": "execute_result"
    }
   ],
   "source": [
    "# Write Python code here:\n"
   ]
  },
  {
   "cell_type": "markdown",
   "metadata": {
    "colab_type": "text",
    "id": "78HYx-R8JTBr"
   },
   "source": [
    "<font color='blue'> END CODE HERE </font>"
   ]
  },
  {
   "cell_type": "markdown",
   "metadata": {
    "colab_type": "text",
    "id": "-qcrTwM1J_B3"
   },
   "source": [
    "### <font color='blue'> Question 4 (25 marks): </font>\n",
    "<font color='blue'>Pool the test data and the malignant data into `X_new`=`X_B_test+X_M`. \n",
    "Then output the 10 observations from `X_new` which are most likely to be outliers (and thus malignant), and compare with their actual labels.\n",
    "\n",
    "<font color='blue'>Steps: \n",
    "1. <font color='blue'>Make a list in which each item contains the score of the anomaly detector and the label for the new data.\n",
    "2. <font color='blue'>Order this list along the first entry. "
   ]
  },
  {
   "cell_type": "markdown",
   "metadata": {
    "colab_type": "text",
    "id": "UogS-yrpKqJs"
   },
   "source": [
    "<font color='blue'> START CODE HERE </font>"
   ]
  },
  {
   "cell_type": "code",
   "execution_count": 0,
   "metadata": {
    "colab": {
     "autoexec": {
      "startup": false,
      "wait_interval": 0
     }
    },
    "colab_type": "code",
    "id": "hJAepR7iKt3w"
   },
   "outputs": [],
   "source": [
    "# Write Python code here:\n"
   ]
  },
  {
   "cell_type": "markdown",
   "metadata": {
    "colab_type": "text",
    "id": "clHfTtvOKsHo"
   },
   "source": [
    "<font color='blue'> END CODE HERE </font>"
   ]
  }
 ],
 "metadata": {
  "accelerator": "GPU",
  "colab": {
   "collapsed_sections": [],
   "default_view": {},
   "name": "05-svm-exercise.ipynb",
   "provenance": [
    {
     "file_id": "1LWHPo7NlWNBWMXJoSaWB4ycQlcnnTyL9",
     "timestamp": 1532585981374
    }
   ],
   "toc_visible": true,
   "version": "0.3.2",
   "views": {}
  },
  "kernelspec": {
   "display_name": "Python 3",
   "language": "python",
   "name": "python3"
  },
  "language_info": {
   "codemirror_mode": {
    "name": "ipython",
    "version": 3
   },
   "file_extension": ".py",
   "mimetype": "text/x-python",
   "name": "python",
   "nbconvert_exporter": "python",
   "pygments_lexer": "ipython3",
   "version": "3.6.4"
  }
 },
 "nbformat": 4,
 "nbformat_minor": 1
}
