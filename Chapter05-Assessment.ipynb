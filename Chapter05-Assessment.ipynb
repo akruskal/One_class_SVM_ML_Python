{
 "cells": [
  {
   "cell_type": "markdown",
   "metadata": {
    "colab_type": "text",
    "id": "LhAuYLjEbnXO"
   },
   "source": [
    "![alt text](images/HDAT9500Banner.PNG)\n",
    "<br>"
   ]
  },
  {
   "cell_type": "markdown",
   "metadata": {},
   "source": [
    "# Chapter 5: One-Class-SVM."
   ]
  },
  {
   "cell_type": "markdown",
   "metadata": {},
   "source": [
    "#####################################################################################\n",
    "\n",
    "Double-click to write down your name and surname.\n",
    "\n",
    "**Name:**\n",
    "\n",
    "\n",
    "**Surname:**\n",
    "\n",
    "**Honour Pledge** <p>\n",
    "    \n",
    "    \n",
    "Declaration: <p>\n",
    "    \n",
    "    \n",
    "I declare that this assessment item is my own work, except where acknowledged, and has not been submitted for academic credit elsewhere or previously, or produced independently of this course (e.g. for a third party such as your place of employment) and acknowledge that the assessor of this item may, for the purpose of assessing this item: \n",
    "\n",
    "    a. Reproduce this assessment item and provide a copy to another member of the University; and/or \n",
    "    b. Communicate a copy of this assessment item to a plagiarism checking service (which may then retain a copy of the assessment item on its database for the purpose of future plagiarism checking). \n",
    "\n",
    "#####################################################################################"
   ]
  },
  {
   "cell_type": "markdown",
   "metadata": {
    "colab_type": "text",
    "id": "DQ2-r1VulPxi"
   },
   "source": [
    "# Anomaly detection via One-Class-SVM using the breast cancer data set\n",
    "\n",
    "Suppose that we have a data set in which one class (e.g. malignant) is so underrepresented that there isn't enough data to fit a two-class classifier. Imagine that this is a very rare type of cancer and we do not have many cancer cases (malignant tumours) to obtain samples, and therefore, we do not have enough samples of malignant tumours <font color=red>**to train**</font> our algorithm. \n",
    "\n",
    "Thus, imagine that we have no images available of malignant tumours to train our model, only bening cases.\n",
    "\n",
    "\n",
    "In **anomaly detection** one approach to solve our problem is as follows: \n",
    "1. Learn the distribution of the normal cases, benign cases in this example. Thus, we train our model with benign cases ONLY.\n",
    "2. For newly incoming data, compare how well these fit with the learnt model. The newly incoming data will have both, benign and malingnant cases.\n",
    "3. As the model has been trained to identify ONLY benign cases, everything that is not benign in the final model, will be classified as \"not benign\", thus malignant. Therefore, we have to test our model with benign and malingnant cases in order to assess its performance.\n",
    "\n",
    "The result is an algorithm which proposes the tumours which are least likely to be normal. If datasets are large but anomalies are very few, this could save the doctor a lot of time. \n",
    "\n",
    "Other applications of this approach could be\n",
    "* credit card fraud detection: for each fraudulent transaction, there are thousands of valid transactions\n",
    "* directing the attention of Department of Health/AIHW/your company case officers browsing suspicious matter reports\n",
    "* ...\n",
    "\n",
    "This is our first example of unsupervised learning!\n",
    "\n",
    "We will use [`OneClassSVM()`](http://scikit-learn.org/stable/modules/generated/sklearn.svm.OneClassSVM.html) from sklearn. "
   ]
  },
  {
   "cell_type": "code",
   "execution_count": null,
   "metadata": {},
   "outputs": [],
   "source": [
    "import warnings; warnings.simplefilter('ignore')"
   ]
  },
  {
   "cell_type": "markdown",
   "metadata": {
    "colab_type": "text",
    "id": "tza0c6Y9GiaE"
   },
   "source": [
    "### <font color='blue'> Question 1 (25 marks): </font>\n",
    "\n",
    "1. <font color='blue'> Extract all the predictors for the benign cases into a matrix `X_B` and for the malignant cases into a matrix `X_M`. Make sure the output, y_B=1 and y_M=-1.\n",
    "2. <font color='blue'> Split the benign cases into an 70% training and 30% testing set. \n",
    "3. <font color='blue'> Remember that we will have only one class to train our model, just benign cases. \n",
    "4. The way the final model works is like this: because the model has been trained to identify ONLY benign cases, everything that is not benign in the final model, will be classified as \"not benign\", thus malignant. You can write it as X_B_train, X_B_test, y_train, y_test= train_test_split(...). "
   ]
  },
  {
   "cell_type": "code",
   "execution_count": null,
   "metadata": {
    "colab": {
     "autoexec": {
      "startup": false,
      "wait_interval": 0
     }
    },
    "colab_type": "code",
    "id": "rFB6WqwVnBYw"
   },
   "outputs": [],
   "source": [
    "# Write Python code here:\n",
    "\n"
   ]
  },
  {
   "cell_type": "markdown",
   "metadata": {
    "colab_type": "text",
    "id": "QKdjt09mHEZZ"
   },
   "source": [
    "### <font color='blue'> Question 2: Fit the model. No need to tune the parameters. Set nu to 0.01 and gamma to 0.005. (25 marks)</font>"
   ]
  },
  {
   "cell_type": "code",
   "execution_count": null,
   "metadata": {
    "colab": {
     "autoexec": {
      "startup": false,
      "wait_interval": 0
     }
    },
    "colab_type": "code",
    "id": "rFB6WqwVnBYw"
   },
   "outputs": [],
   "source": [
    "# Write Python code here:\n",
    "\n"
   ]
  },
  {
   "cell_type": "markdown",
   "metadata": {
    "colab_type": "text",
    "id": "4J4fnCrfIptj"
   },
   "source": [
    "### <font color='blue'> Question 3: Before carrying out the final test, we have to assess how our model performs on the benign cases test set (X_B_test). How good is the model at predicting the right class for data? (15 marks)</font>"
   ]
  },
  {
   "cell_type": "code",
   "execution_count": null,
   "metadata": {
    "colab": {
     "autoexec": {
      "startup": false,
      "wait_interval": 0
     }
    },
    "colab_type": "code",
    "id": "rFB6WqwVnBYw"
   },
   "outputs": [],
   "source": [
    "# Write Python code here:\n",
    "\n"
   ]
  },
  {
   "cell_type": "markdown",
   "metadata": {},
   "source": [
    "<b> Write your thoughts here (100 words max):</b>\n",
    "#####################################################################################################################\n",
    "\n",
    "(Double-click here)\n",
    "\n",
    "\n",
    "#####################################################################################################################"
   ]
  },
  {
   "cell_type": "markdown",
   "metadata": {},
   "source": [
    "### <font color='blue'> Question 4: How good is the model at differentiating malignant from benign cases? (35 marks)</font>"
   ]
  },
  {
   "cell_type": "code",
   "execution_count": null,
   "metadata": {
    "colab": {
     "autoexec": {
      "startup": false,
      "wait_interval": 0
     }
    },
    "colab_type": "code",
    "id": "rFB6WqwVnBYw"
   },
   "outputs": [],
   "source": [
    "# Write Python code here:\n",
    "\n"
   ]
  },
  {
   "cell_type": "markdown",
   "metadata": {},
   "source": [
    "<b> Write your thoughts here (100 words max):</b>\n",
    "#####################################################################################################################\n",
    "\n",
    "(Double-click here)\n",
    "\n",
    "\n",
    "#####################################################################################################################"
   ]
  }
 ],
 "metadata": {
  "accelerator": "GPU",
  "colab": {
   "collapsed_sections": [],
   "default_view": {},
   "name": "05-svm-exercise.ipynb",
   "provenance": [
    {
     "file_id": "1LWHPo7NlWNBWMXJoSaWB4ycQlcnnTyL9",
     "timestamp": 1532585981374
    }
   ],
   "toc_visible": true,
   "version": "0.3.2",
   "views": {}
  },
  "kernelspec": {
   "display_name": "Python 3",
   "language": "python",
   "name": "python3"
  },
  "language_info": {
   "codemirror_mode": {
    "name": "ipython",
    "version": 3
   },
   "file_extension": ".py",
   "mimetype": "text/x-python",
   "name": "python",
   "nbconvert_exporter": "python",
   "pygments_lexer": "ipython3",
   "version": "3.6.9"
  }
 },
 "nbformat": 4,
 "nbformat_minor": 1
}
